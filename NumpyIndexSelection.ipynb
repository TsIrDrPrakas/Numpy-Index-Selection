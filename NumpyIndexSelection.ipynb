{
  "nbformat": 4,
  "nbformat_minor": 0,
  "metadata": {
    "colab": {
      "provenance": [],
      "authorship_tag": "ABX9TyOfFnW7iWV6UGgE/QJv+H1h",
      "include_colab_link": true
    },
    "kernelspec": {
      "name": "python3",
      "display_name": "Python 3"
    },
    "language_info": {
      "name": "python"
    }
  },
  "cells": [
    {
      "cell_type": "markdown",
      "metadata": {
        "id": "view-in-github",
        "colab_type": "text"
      },
      "source": [
        "<a href=\"https://colab.research.google.com/github/TsIrDrPrakas/Numpy-Index-Selection/blob/master/NumpyIndexSelection.ipynb\" target=\"_parent\"><img src=\"https://colab.research.google.com/assets/colab-badge.svg\" alt=\"Open In Colab\"/></a>"
      ]
    },
    {
      "cell_type": "markdown",
      "source": [
        "# **Numpy Index Selection**"
      ],
      "metadata": {
        "id": "yKpBZV20dbxj"
      }
    },
    {
      "cell_type": "markdown",
      "source": [
        "Import Library"
      ],
      "metadata": {
        "id": "850rOuBRdgQ9"
      }
    },
    {
      "cell_type": "code",
      "execution_count": 1,
      "metadata": {
        "id": "xP7i0csqdOIV"
      },
      "outputs": [],
      "source": [
        "import numpy as np"
      ]
    },
    {
      "cell_type": "markdown",
      "source": [
        "# **Example 1**"
      ],
      "metadata": {
        "id": "kg4ZTsGJvNqB"
      }
    },
    {
      "cell_type": "code",
      "source": [
        "arr = np.arange(0,11)"
      ],
      "metadata": {
        "id": "ETPsnLr1dj8k"
      },
      "execution_count": 2,
      "outputs": []
    },
    {
      "cell_type": "code",
      "source": [
        "arr"
      ],
      "metadata": {
        "colab": {
          "base_uri": "https://localhost:8080/"
        },
        "id": "fOzMwE3Qdqzy",
        "outputId": "040640b5-61b7-4d15-a8f5-fc4568d408f4"
      },
      "execution_count": 3,
      "outputs": [
        {
          "output_type": "execute_result",
          "data": {
            "text/plain": [
              "array([ 0,  1,  2,  3,  4,  5,  6,  7,  8,  9, 10])"
            ]
          },
          "metadata": {},
          "execution_count": 3
        }
      ]
    },
    {
      "cell_type": "markdown",
      "source": [
        "Select a single valuue"
      ],
      "metadata": {
        "id": "MD7yTs_5dt2q"
      }
    },
    {
      "cell_type": "code",
      "source": [
        "arr[8]"
      ],
      "metadata": {
        "colab": {
          "base_uri": "https://localhost:8080/"
        },
        "id": "644DePlbdxWN",
        "outputId": "35c5ceb4-4c93-45f8-85ad-4add03b46a09"
      },
      "execution_count": 4,
      "outputs": [
        {
          "output_type": "execute_result",
          "data": {
            "text/plain": [
              "8"
            ]
          },
          "metadata": {},
          "execution_count": 4
        }
      ]
    },
    {
      "cell_type": "markdown",
      "source": [
        "Selecting Examples"
      ],
      "metadata": {
        "id": "NVFh8Cb6d8dh"
      }
    },
    {
      "cell_type": "code",
      "source": [
        "arr[1:5]"
      ],
      "metadata": {
        "colab": {
          "base_uri": "https://localhost:8080/"
        },
        "id": "IeGL4pMYd2eZ",
        "outputId": "d381390a-a696-4adc-c6f7-4e70c10a911d"
      },
      "execution_count": 5,
      "outputs": [
        {
          "output_type": "execute_result",
          "data": {
            "text/plain": [
              "array([1, 2, 3, 4])"
            ]
          },
          "metadata": {},
          "execution_count": 5
        }
      ]
    },
    {
      "cell_type": "code",
      "source": [
        "arr[0:5]"
      ],
      "metadata": {
        "colab": {
          "base_uri": "https://localhost:8080/"
        },
        "id": "zN-FeNzxeDVU",
        "outputId": "aaae1301-29d6-4b41-93a1-00f1ed7995e0"
      },
      "execution_count": 6,
      "outputs": [
        {
          "output_type": "execute_result",
          "data": {
            "text/plain": [
              "array([0, 1, 2, 3, 4])"
            ]
          },
          "metadata": {},
          "execution_count": 6
        }
      ]
    },
    {
      "cell_type": "code",
      "source": [
        "arr[:5]"
      ],
      "metadata": {
        "colab": {
          "base_uri": "https://localhost:8080/"
        },
        "id": "vBT1Tgo5eKR4",
        "outputId": "27c9d339-36a7-4ee8-d20b-bdb23cda9de0"
      },
      "execution_count": 7,
      "outputs": [
        {
          "output_type": "execute_result",
          "data": {
            "text/plain": [
              "array([0, 1, 2, 3, 4])"
            ]
          },
          "metadata": {},
          "execution_count": 7
        }
      ]
    },
    {
      "cell_type": "code",
      "source": [
        "arr[5:]"
      ],
      "metadata": {
        "colab": {
          "base_uri": "https://localhost:8080/"
        },
        "id": "igknea-beQ5K",
        "outputId": "90af4476-a199-4f53-8c1d-dcbfa1a7cc1c"
      },
      "execution_count": 8,
      "outputs": [
        {
          "output_type": "execute_result",
          "data": {
            "text/plain": [
              "array([ 5,  6,  7,  8,  9, 10])"
            ]
          },
          "metadata": {},
          "execution_count": 8
        }
      ]
    },
    {
      "cell_type": "markdown",
      "source": [
        "Braodacsting Value"
      ],
      "metadata": {
        "id": "4RoBMFm6erRn"
      }
    },
    {
      "cell_type": "code",
      "source": [
        "arr"
      ],
      "metadata": {
        "colab": {
          "base_uri": "https://localhost:8080/"
        },
        "id": "aj5qnyHOevnf",
        "outputId": "05383166-7e1c-450d-d9d0-64dbf8596cb7"
      },
      "execution_count": 9,
      "outputs": [
        {
          "output_type": "execute_result",
          "data": {
            "text/plain": [
              "array([ 0,  1,  2,  3,  4,  5,  6,  7,  8,  9, 10])"
            ]
          },
          "metadata": {},
          "execution_count": 9
        }
      ]
    },
    {
      "cell_type": "code",
      "source": [
        "arr[:5]=100"
      ],
      "metadata": {
        "id": "IBbST-vievvV"
      },
      "execution_count": 10,
      "outputs": []
    },
    {
      "cell_type": "code",
      "source": [
        "arr"
      ],
      "metadata": {
        "colab": {
          "base_uri": "https://localhost:8080/"
        },
        "id": "-tjTShXee47k",
        "outputId": "42adf010-893d-466f-e7e0-2ce49323aa95"
      },
      "execution_count": 11,
      "outputs": [
        {
          "output_type": "execute_result",
          "data": {
            "text/plain": [
              "array([100, 100, 100, 100, 100,   5,   6,   7,   8,   9,  10])"
            ]
          },
          "metadata": {},
          "execution_count": 11
        }
      ]
    },
    {
      "cell_type": "markdown",
      "source": [
        "# **Example 2**"
      ],
      "metadata": {
        "id": "81NQ-LKyfcf4"
      }
    },
    {
      "cell_type": "code",
      "source": [
        "arr = np.arange(0,11)"
      ],
      "metadata": {
        "id": "VydsfhDKfYNw"
      },
      "execution_count": 15,
      "outputs": []
    },
    {
      "cell_type": "markdown",
      "source": [
        "# Extracting a slice of the array 'arr' from index 0 to 4 (inclusive), creating 'slice_of_arr'.\n"
      ],
      "metadata": {
        "id": "t02u54mRtkHN"
      }
    },
    {
      "cell_type": "code",
      "source": [
        "slice_of_arr = arr[0:5]"
      ],
      "metadata": {
        "id": "7mXNOp3psPCD"
      },
      "execution_count": 16,
      "outputs": []
    },
    {
      "cell_type": "code",
      "source": [
        "slice_of_arr"
      ],
      "metadata": {
        "colab": {
          "base_uri": "https://localhost:8080/"
        },
        "id": "xvvDUbA7sZ0p",
        "outputId": "a92b7384-7eaf-47e3-ce18-69885ca0113e"
      },
      "execution_count": 17,
      "outputs": [
        {
          "output_type": "execute_result",
          "data": {
            "text/plain": [
              "array([0, 1, 2, 3, 4])"
            ]
          },
          "metadata": {},
          "execution_count": 17
        }
      ]
    },
    {
      "cell_type": "code",
      "source": [
        "arr"
      ],
      "metadata": {
        "colab": {
          "base_uri": "https://localhost:8080/"
        },
        "id": "x58zQfuUsnPC",
        "outputId": "2bba746d-a779-448e-95e1-6748eafa6842"
      },
      "execution_count": 18,
      "outputs": [
        {
          "output_type": "execute_result",
          "data": {
            "text/plain": [
              "array([ 0,  1,  2,  3,  4,  5,  6,  7,  8,  9, 10])"
            ]
          },
          "metadata": {},
          "execution_count": 18
        }
      ]
    },
    {
      "cell_type": "markdown",
      "source": [
        "# Assigning the value 99 to all elements in the slice 'slice_of_arr'.\n"
      ],
      "metadata": {
        "id": "K2hBLwSUtyoM"
      }
    },
    {
      "cell_type": "code",
      "source": [
        "slice_of_arr [:] = 99"
      ],
      "metadata": {
        "id": "mwIGajqTssm-"
      },
      "execution_count": 19,
      "outputs": []
    },
    {
      "cell_type": "code",
      "source": [
        "slice_of_arr"
      ],
      "metadata": {
        "colab": {
          "base_uri": "https://localhost:8080/"
        },
        "id": "6brMxEGss0Ql",
        "outputId": "eaa204ec-82e7-49b0-b3c0-99cebf94e250"
      },
      "execution_count": 20,
      "outputs": [
        {
          "output_type": "execute_result",
          "data": {
            "text/plain": [
              "array([99, 99, 99, 99, 99])"
            ]
          },
          "metadata": {},
          "execution_count": 20
        }
      ]
    },
    {
      "cell_type": "code",
      "source": [
        "arr"
      ],
      "metadata": {
        "colab": {
          "base_uri": "https://localhost:8080/"
        },
        "id": "-tBrnQtrs_zu",
        "outputId": "13728294-a344-46a5-b2aa-7faaf7bad3d8"
      },
      "execution_count": 21,
      "outputs": [
        {
          "output_type": "execute_result",
          "data": {
            "text/plain": [
              "array([99, 99, 99, 99, 99,  5,  6,  7,  8,  9, 10])"
            ]
          },
          "metadata": {},
          "execution_count": 21
        }
      ]
    },
    {
      "cell_type": "markdown",
      "source": [
        "# Creating a copy of the array 'arr' (original) and assigning it to 'arr_copy'( a copy).\n"
      ],
      "metadata": {
        "id": "B1d_GD90t86v"
      }
    },
    {
      "cell_type": "code",
      "source": [
        "arr_copy = arr.copy()"
      ],
      "metadata": {
        "id": "hucb_RjCtO_S"
      },
      "execution_count": 22,
      "outputs": []
    },
    {
      "cell_type": "markdown",
      "source": [
        "*Assigining New Value*"
      ],
      "metadata": {
        "id": "e-se7qfPul1R"
      }
    },
    {
      "cell_type": "code",
      "source": [
        "arr_copy [:] = 100"
      ],
      "metadata": {
        "id": "rz2gdtg7t-lR"
      },
      "execution_count": 23,
      "outputs": []
    },
    {
      "cell_type": "markdown",
      "source": [
        "*Checking the Copy*"
      ],
      "metadata": {
        "id": "1xtmSDSUuq4q"
      }
    },
    {
      "cell_type": "code",
      "source": [
        "arr_copy"
      ],
      "metadata": {
        "colab": {
          "base_uri": "https://localhost:8080/"
        },
        "id": "VFm2jsL2udhY",
        "outputId": "113bcfea-f649-47e6-de3a-5610ca31df4f"
      },
      "execution_count": 25,
      "outputs": [
        {
          "output_type": "execute_result",
          "data": {
            "text/plain": [
              "array([100, 100, 100, 100, 100, 100, 100, 100, 100, 100, 100])"
            ]
          },
          "metadata": {},
          "execution_count": 25
        }
      ]
    },
    {
      "cell_type": "markdown",
      "source": [
        "*Checking the Original*"
      ],
      "metadata": {
        "id": "xTBYalcNuwvx"
      }
    },
    {
      "cell_type": "code",
      "source": [
        "arr"
      ],
      "metadata": {
        "colab": {
          "base_uri": "https://localhost:8080/"
        },
        "id": "_Vh9A4tXujEz",
        "outputId": "a732b24f-c7d6-4161-b647-47ce0b4c1aeb"
      },
      "execution_count": 26,
      "outputs": [
        {
          "output_type": "execute_result",
          "data": {
            "text/plain": [
              "array([99, 99, 99, 99, 99,  5,  6,  7,  8,  9, 10])"
            ]
          },
          "metadata": {},
          "execution_count": 26
        }
      ]
    },
    {
      "cell_type": "markdown",
      "source": [
        "# **Example 3**"
      ],
      "metadata": {
        "id": "LmE9IjUhvd5R"
      }
    },
    {
      "cell_type": "markdown",
      "source": [
        "2D Array"
      ],
      "metadata": {
        "id": "TdWMe0GOwB8k"
      }
    },
    {
      "cell_type": "code",
      "source": [
        "arr_2d = np.array ([[5,10,15],[20,25,30],[35,40,45]])"
      ],
      "metadata": {
        "id": "2OR9UBUFu15b"
      },
      "execution_count": 27,
      "outputs": []
    },
    {
      "cell_type": "code",
      "source": [
        "arr_2d"
      ],
      "metadata": {
        "colab": {
          "base_uri": "https://localhost:8080/"
        },
        "id": "F85Uw-KpwFWL",
        "outputId": "220e4eb6-9f6e-40e8-bf47-6e20c3eedfdd"
      },
      "execution_count": 28,
      "outputs": [
        {
          "output_type": "execute_result",
          "data": {
            "text/plain": [
              "array([[ 5, 10, 15],\n",
              "       [20, 25, 30],\n",
              "       [35, 40, 45]])"
            ]
          },
          "metadata": {},
          "execution_count": 28
        }
      ]
    },
    {
      "cell_type": "markdown",
      "source": [
        "Checking the shape (row, column)"
      ],
      "metadata": {
        "id": "WQt77xzUwQKU"
      }
    },
    {
      "cell_type": "code",
      "source": [
        "arr_2d.shape"
      ],
      "metadata": {
        "colab": {
          "base_uri": "https://localhost:8080/"
        },
        "id": "XPw_p8BvwTG8",
        "outputId": "c552212d-3790-4b7f-d228-f63353667a1a"
      },
      "execution_count": 29,
      "outputs": [
        {
          "output_type": "execute_result",
          "data": {
            "text/plain": [
              "(3, 3)"
            ]
          },
          "metadata": {},
          "execution_count": 29
        }
      ]
    },
    {
      "cell_type": "markdown",
      "source": [
        "Selecting the 1st Row"
      ],
      "metadata": {
        "id": "CwLxShPCweWM"
      }
    },
    {
      "cell_type": "code",
      "source": [
        "arr_2d[0]"
      ],
      "metadata": {
        "colab": {
          "base_uri": "https://localhost:8080/"
        },
        "id": "c9AvXc3LwkDz",
        "outputId": "eb444a89-c4d8-4f9c-e73a-af9796a2eb1d"
      },
      "execution_count": 30,
      "outputs": [
        {
          "output_type": "execute_result",
          "data": {
            "text/plain": [
              "array([ 5, 10, 15])"
            ]
          },
          "metadata": {},
          "execution_count": 30
        }
      ]
    },
    {
      "cell_type": "markdown",
      "source": [
        "Selecting Row 1 Column 1 = element"
      ],
      "metadata": {
        "id": "M3OAqSX4w-ZJ"
      }
    },
    {
      "cell_type": "code",
      "source": [
        "arr_2d[1,1]"
      ],
      "metadata": {
        "colab": {
          "base_uri": "https://localhost:8080/"
        },
        "id": "3KHu5uZoxDsg",
        "outputId": "c8241f17-7871-4c78-a4b4-d2ee6e4be17a"
      },
      "execution_count": 31,
      "outputs": [
        {
          "output_type": "execute_result",
          "data": {
            "text/plain": [
              "25"
            ]
          },
          "metadata": {},
          "execution_count": 31
        }
      ]
    },
    {
      "cell_type": "code",
      "source": [
        "arr_2d[1][1]"
      ],
      "metadata": {
        "colab": {
          "base_uri": "https://localhost:8080/"
        },
        "id": "eNKhAA_JxLvS",
        "outputId": "b40656ea-a70e-47a2-90a5-914a60aa080b"
      },
      "execution_count": 32,
      "outputs": [
        {
          "output_type": "execute_result",
          "data": {
            "text/plain": [
              "25"
            ]
          },
          "metadata": {},
          "execution_count": 32
        }
      ]
    },
    {
      "cell_type": "markdown",
      "source": [
        "Row 1, Column 3 's Element"
      ],
      "metadata": {
        "id": "vNu_xAttxc17"
      }
    },
    {
      "cell_type": "code",
      "source": [
        "arr_2d[0,2]"
      ],
      "metadata": {
        "colab": {
          "base_uri": "https://localhost:8080/"
        },
        "id": "f-W__FuzxWKc",
        "outputId": "0f89f37b-539c-4cd5-d670-b321992134c9"
      },
      "execution_count": 33,
      "outputs": [
        {
          "output_type": "execute_result",
          "data": {
            "text/plain": [
              "15"
            ]
          },
          "metadata": {},
          "execution_count": 33
        }
      ]
    },
    {
      "cell_type": "markdown",
      "source": [
        "Selecting range of Row"
      ],
      "metadata": {
        "id": "TfU79XO-xykp"
      }
    },
    {
      "cell_type": "code",
      "source": [
        "arr_2d[:2]"
      ],
      "metadata": {
        "colab": {
          "base_uri": "https://localhost:8080/"
        },
        "id": "Rd7Tv2wOxjqd",
        "outputId": "c5d0ca62-45ca-41ad-b624-a8297bbc1cee"
      },
      "execution_count": 34,
      "outputs": [
        {
          "output_type": "execute_result",
          "data": {
            "text/plain": [
              "array([[ 5, 10, 15],\n",
              "       [20, 25, 30]])"
            ]
          },
          "metadata": {},
          "execution_count": 34
        }
      ]
    },
    {
      "cell_type": "markdown",
      "source": [
        "Selecting a subsection , (rows and colum)"
      ],
      "metadata": {
        "id": "m1mdN0BeyCXs"
      }
    },
    {
      "cell_type": "code",
      "source": [
        "arr_2d[:2,1:]"
      ],
      "metadata": {
        "colab": {
          "base_uri": "https://localhost:8080/"
        },
        "id": "826QEbObx6jU",
        "outputId": "438394a4-bdf4-4cd2-94b7-a7e35ab6166c"
      },
      "execution_count": 35,
      "outputs": [
        {
          "output_type": "execute_result",
          "data": {
            "text/plain": [
              "array([[10, 15],\n",
              "       [25, 30]])"
            ]
          },
          "metadata": {},
          "execution_count": 35
        }
      ]
    },
    {
      "cell_type": "markdown",
      "source": [
        "# **Example 3**"
      ],
      "metadata": {
        "id": "IEZTIgUUyPmr"
      }
    },
    {
      "cell_type": "markdown",
      "source": [
        "Conditional Selection"
      ],
      "metadata": {
        "id": "P3I3wXCEyT_e"
      }
    },
    {
      "cell_type": "code",
      "source": [
        "arr = np.arange (1, 11)"
      ],
      "metadata": {
        "id": "88Lvf5kkyXQA"
      },
      "execution_count": 37,
      "outputs": []
    },
    {
      "cell_type": "code",
      "source": [
        "arr"
      ],
      "metadata": {
        "colab": {
          "base_uri": "https://localhost:8080/"
        },
        "id": "dEAyLZAdyjsh",
        "outputId": "85d05474-f3d1-4957-90b0-694f8d0d7ead"
      },
      "execution_count": 38,
      "outputs": [
        {
          "output_type": "execute_result",
          "data": {
            "text/plain": [
              "array([ 1,  2,  3,  4,  5,  6,  7,  8,  9, 10])"
            ]
          },
          "metadata": {},
          "execution_count": 38
        }
      ]
    },
    {
      "cell_type": "code",
      "source": [
        "arr > 4"
      ],
      "metadata": {
        "colab": {
          "base_uri": "https://localhost:8080/"
        },
        "id": "6XiD67UEyo8q",
        "outputId": "bf391546-d93d-4589-ef47-54763871a04b"
      },
      "execution_count": 39,
      "outputs": [
        {
          "output_type": "execute_result",
          "data": {
            "text/plain": [
              "array([False, False, False, False,  True,  True,  True,  True,  True,\n",
              "        True])"
            ]
          },
          "metadata": {},
          "execution_count": 39
        }
      ]
    },
    {
      "cell_type": "code",
      "source": [
        "bool_arr = arr>4"
      ],
      "metadata": {
        "id": "h1hVBDTwyyaV"
      },
      "execution_count": 40,
      "outputs": []
    },
    {
      "cell_type": "code",
      "source": [
        "bool_arr"
      ],
      "metadata": {
        "colab": {
          "base_uri": "https://localhost:8080/"
        },
        "id": "K0wISbFXy5QT",
        "outputId": "82bfef64-2ad9-487b-b789-7e7475ee1b5e"
      },
      "execution_count": 41,
      "outputs": [
        {
          "output_type": "execute_result",
          "data": {
            "text/plain": [
              "array([False, False, False, False,  True,  True,  True,  True,  True,\n",
              "        True])"
            ]
          },
          "metadata": {},
          "execution_count": 41
        }
      ]
    },
    {
      "cell_type": "code",
      "source": [
        "arr[bool_arr]"
      ],
      "metadata": {
        "colab": {
          "base_uri": "https://localhost:8080/"
        },
        "id": "trbd62j9y-fV",
        "outputId": "3d20e3dd-b2f2-47af-f5db-196bc282f674"
      },
      "execution_count": 42,
      "outputs": [
        {
          "output_type": "execute_result",
          "data": {
            "text/plain": [
              "array([ 5,  6,  7,  8,  9, 10])"
            ]
          },
          "metadata": {},
          "execution_count": 42
        }
      ]
    },
    {
      "cell_type": "code",
      "source": [
        "arr[arr>4]"
      ],
      "metadata": {
        "colab": {
          "base_uri": "https://localhost:8080/"
        },
        "id": "EcG1rCXezKCv",
        "outputId": "3b52e3a0-c758-4b94-ddbd-b53be6d2ec9a"
      },
      "execution_count": 43,
      "outputs": [
        {
          "output_type": "execute_result",
          "data": {
            "text/plain": [
              "array([ 5,  6,  7,  8,  9, 10])"
            ]
          },
          "metadata": {},
          "execution_count": 43
        }
      ]
    }
  ]
}